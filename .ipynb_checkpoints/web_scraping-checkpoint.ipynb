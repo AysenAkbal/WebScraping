{
 "cells": [
  {
   "cell_type": "code",
   "execution_count": 1,
   "metadata": {},
   "outputs": [],
   "source": [
    "import bs4"
   ]
  },
  {
   "cell_type": "code",
   "execution_count": 2,
   "metadata": {},
   "outputs": [],
   "source": [
    "from urllib.request import urlopen as uReq"
   ]
  },
  {
   "cell_type": "code",
   "execution_count": 3,
   "metadata": {},
   "outputs": [],
   "source": [
    "from bs4 import BeautifulSoup as soup"
   ]
  },
  {
   "cell_type": "code",
   "execution_count": 101,
   "metadata": {},
   "outputs": [],
   "source": [
    "myUrl = 'https://www.trendyol.com/kadin+cilt-bakimi'"
   ]
  },
  {
   "cell_type": "code",
   "execution_count": 102,
   "metadata": {},
   "outputs": [
    {
     "data": {
      "text/plain": [
       "'https://www.trendyol.com/kadin+cilt-bakimi'"
      ]
     },
     "execution_count": 102,
     "metadata": {},
     "output_type": "execute_result"
    }
   ],
   "source": [
    "myUrl"
   ]
  },
  {
   "cell_type": "code",
   "execution_count": 103,
   "metadata": {},
   "outputs": [],
   "source": [
    "#opening up connection with grabbing page\n",
    "uClient = uReq(myUrl)"
   ]
  },
  {
   "cell_type": "code",
   "execution_count": 104,
   "metadata": {},
   "outputs": [],
   "source": [
    "page_html = uClient.read()"
   ]
  },
  {
   "cell_type": "code",
   "execution_count": 105,
   "metadata": {},
   "outputs": [],
   "source": [
    "uClient.close()"
   ]
  },
  {
   "cell_type": "code",
   "execution_count": 106,
   "metadata": {},
   "outputs": [],
   "source": [
    "page_soup = soup(page_html, \"html.parser\")"
   ]
  },
  {
   "cell_type": "code",
   "execution_count": 107,
   "metadata": {},
   "outputs": [
    {
     "data": {
      "text/plain": [
       "<h1>Kadın Cilt Bakımı</h1>"
      ]
     },
     "execution_count": 107,
     "metadata": {},
     "output_type": "execute_result"
    }
   ],
   "source": [
    "page_soup.h1"
   ]
  },
  {
   "cell_type": "code",
   "execution_count": 108,
   "metadata": {},
   "outputs": [
    {
     "data": {
      "text/plain": [
       "<span class=\"\" id=\"not-logged-in-container\">\n",
       "<span>Giriş Yap</span>\n",
       "<div class=\"login-panel-container\">\n",
       "<div class=\"account-button login\">Giriş Yap</div>\n",
       "<div class=\"account-button register\">Üye Ol</div>\n",
       "</div>\n",
       "</span>"
      ]
     },
     "execution_count": 108,
     "metadata": {},
     "output_type": "execute_result"
    }
   ],
   "source": [
    "page_soup.body.span"
   ]
  },
  {
   "cell_type": "code",
   "execution_count": 111,
   "metadata": {},
   "outputs": [],
   "source": [
    "#grab all product \n",
    "containers = page_soup.findAll(\"div\", {\"class\": \"p-card-wrppr add-to-bs-card\" })"
   ]
  },
  {
   "cell_type": "code",
   "execution_count": 90,
   "metadata": {},
   "outputs": [
    {
     "data": {
      "text/plain": [
       "24"
      ]
     },
     "execution_count": 90,
     "metadata": {},
     "output_type": "execute_result"
    }
   ],
   "source": [
    "len(containers)"
   ]
  },
  {
   "cell_type": "code",
   "execution_count": 149,
   "metadata": {},
   "outputs": [
    {
     "name": "stdout",
     "output_type": "stream",
     "text": [
      "Kil Maskesi - Indian Healing Clay  Kil Maskesi 454 g 727616171169\n",
      "229,00 TL144 TL\n",
      "(2332)\n",
      "Egg White Pore Gözenek Maskesi 125 g 8809327940073\n",
      "199,90 TL179,90 TL\n",
      "(1745)\n",
      "72 Saat Nem Koruma Teknolojili Nemlendirici Krem - Moisture Surge 30 ml 020714898137\n",
      "135 TL\n",
      "(2186)\n",
      "Atoderm Cream 200 Ml\n",
      "69,50 TL49,80 TL\n",
      "(14709)\n",
      "Nem Terapisi Aloe Vera Suyu Kuru ve Hassas Ciltler için Su Bazlı Günlük Bakım\n",
      "84,90 TL57,90 TL\n",
      "(3700)\n",
      "Nem Terapisi Aloe Vera Suyu Normalden Karmaya Ciltler için Su Bazlı Günlük Bakım 3600523424894\n",
      "84,90 TL59,90 TL\n",
      "(4450)\n",
      "Elmas Tozu İçeren Güçlü Peeling Jeli - A'PIEU Naked Peeling Gel (Crystal) 100ml 8806185782630\n",
      "79,90 TL71,91 TL\n",
      "(434)\n",
      "Şeker Peelingi Işıltı Canlandırıcı – Üzüm Yağı 3600523542208\n",
      "59,90 TL41,90 TL\n",
      "(2898)\n",
      "Aydınlatıcı ve Leke Giderici Yüz & Cilt Bakım Serumu 20 ml kozmopkt163\n",
      "192,15 TL94,90 TL\n",
      "(1388)\n",
      "Rice Mask Yüz Bakım Maskesi 100 g 8809153100641\n",
      "179,90 TL159,90 TL\n",
      "(380)\n",
      "3 Adet?? Mühürlü?? 1.kalite Ruşur (sefidab)taşı\n",
      "30 TL\n",
      "(148)\n",
      "Bitkisel Leke giderici&Cilt Beyazlatıcı Krem Spf50+ gündüz Kremi 100 g\n",
      "50,00 TL26,85 TL\n",
      "(3598)\n",
      "Yüz Maskesi - Skin Expert Ext Clay Blue Mask J50 3600523516988\n",
      "59,90 TL41,90 TL\n",
      "(1479)\n",
      "Mucizevi Günlük Yüz Bakım Yağı 30 ml 3600522457657\n",
      "84,90 TL57,90 TL\n",
      "(2184)\n",
      "Temizleyici & Aydınlatıcı Peeling Jel Maske - Pure Source Pocket Pack (Rice) 10ml 8806185781886\n",
      "15,21 TL\n",
      "(1569)\n",
      "4 Adet Mühürlü 1.kalite Ruşur Sefidab Taşı\n",
      "35 TL\n",
      "(48)\n",
      "Peeling Krem - Near Skin Self Control Peeling Massage 200 ml 8809530047842\n",
      "149,90 TL134,91 TL\n",
      "(438)\n",
      "Çene Hattı Sıkılaştırıcı Maske - Speedy Solution Lifting Patch 1 Parça 8806185764520\n",
      "29,90 TL26,91 TL\n",
      "(499)\n",
      "Effaclar Duo(+) Bakım Kremi Kusur Karşıtı Akneye Eğilim Gösteren Ciltler 40 ml 3337875598071\n",
      "109,90 TL\n",
      "(2559)\n",
      "Kırışıklık Karşıtı & Aydınlatıcı Krem - A'PIEU Madecassoside Cream 8809530056714\n",
      "154,90 TL139,41 TL\n",
      "(112)\n",
      "Atoderm Cream 500 ml\n",
      "127,06 TL104,90 TL\n",
      "(3416)\n",
      "Göz Çevresi Serumu kozmopkt911\n",
      "293,14 TL79,90 TL\n",
      "(335)\n",
      "Black Sugar Yenileyici Yüz Maskesi 100 g 8809153100634\n",
      "199,90 TL159,90 TL\n",
      "(236)\n",
      "Şeker Peelingi Siyah Nokta Karşıtı – Kivi Tohumu 3600523542215\n",
      "59,90 TL41,90 TL\n",
      "(1370)\n"
     ]
    }
   ],
   "source": [
    "for container in containers:\n",
    "    title_container= container.findAll(\"span\", { \"class\": \"prdct-desc-cntnr-name hasRatings\"})\n",
    "    product_name = title_container[0].text\n",
    "    rating_count = container.findAll(\"span\",{ \"class\": \"ratingCount\"})\n",
    "    ratingCount = rating_count[0].text\n",
    "    product_price = container(\"div\", { \"class\": \"pr-bx-nm\"})\n",
    "    priceOfProduct = product_price[0].text\n",
    "\n",
    "    print(product_name)\n",
    "    print(priceOfProduct)\n",
    "    print(ratingCount)"
   ]
  },
  {
   "cell_type": "code",
   "execution_count": 145,
   "metadata": {},
   "outputs": [],
   "source": [
    "filename = \"product.csv\"\n",
    "f =open(filename, \"w\")"
   ]
  },
  {
   "cell_type": "code",
   "execution_count": 146,
   "metadata": {},
   "outputs": [
    {
     "data": {
      "text/plain": [
       "41"
      ]
     },
     "execution_count": 146,
     "metadata": {},
     "output_type": "execute_result"
    }
   ],
   "source": [
    "headers = \"product_name, product_price, product_rate\"\n",
    "f.write(headers)"
   ]
  },
  {
   "cell_type": "code",
   "execution_count": null,
   "metadata": {},
   "outputs": [],
   "source": []
  }
 ],
 "metadata": {
  "kernelspec": {
   "display_name": "Python 3",
   "language": "python",
   "name": "python3"
  },
  "language_info": {
   "codemirror_mode": {
    "name": "ipython",
    "version": 3
   },
   "file_extension": ".py",
   "mimetype": "text/x-python",
   "name": "python",
   "nbconvert_exporter": "python",
   "pygments_lexer": "ipython3",
   "version": "3.7.2"
  }
 },
 "nbformat": 4,
 "nbformat_minor": 2
}
